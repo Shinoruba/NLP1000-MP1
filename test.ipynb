{
  "cells": [
    {
      "cell_type": "markdown",
      "metadata": {
        "id": "wt4sVtx0CqPh"
      },
      "source": [
        "# **Mini-Project \\#1 - RegEx Chatbot**\n",
        "\n",
        "Name: \\<Homssi, Yazan M.\\>\n",
        "\n",
        "Section: \\<S15\\>\n",
        "\n",
        "More information on the assessment is found in our Canvas course.\n",
        "\n",
        "### **Yazan's Note:**\n",
        "\n",
        "I'd like to point out that silly me did not install the regex package before attempting this, so when I tried to run the code. It threw an error at me."
      ]
    },
    {
      "cell_type": "markdown",
      "metadata": {
        "id": "8d5XeOC1BKkp"
      },
      "source": [
        "# **Provided Patterns**\n",
        "\n",
        "The code block below provides you with the same patterns found in the assessment write up. Please also note that it would be better to use the `regex` library instead of the `re` library to avoid issues with zero-width matches."
      ]
    },
    {
      "cell_type": "code",
      "execution_count": 2,
      "metadata": {
        "id": "3ZCl59JJ8wy8"
      },
      "outputs": [],
      "source": [
        "import regex as re\n",
        "import random\n",
        "\n",
        "pttrn_being = r'(?<=i(\\'m| am) )[\\w-\\' ]+[\\.?]?'\n",
        "pttrn_being_negation = r'(?<=i(\\'m| am) (just |really )?not )[\\w-\\' ]+[\\.?]?'\n",
        "\n",
        "family_words = [\"father\", \"dad(dy)?\", \"mother\", \"mom(my)?\", \"sis(ter)?\", \"bro(ther)\", \"sibling\", \"siblings\"]\n",
        "pttrn_my_family = r'(?<=my )(' + r'|'.join([\"(\" + x + \")\" for x in family_words]) + r')'\n",
        "\n",
        "pttrn_my_general = r'(?<=my )[\\w-\\' ]+[\\.?]?'\n",
        "\n",
        "pattern_stop_session = r\"^(i('d| would) like (for us )?to |let('s| us) )?stop( please)?[\\.!]?$\""
      ]
    },
    {
      "cell_type": "markdown",
      "metadata": {
        "id": "nnzCsnf1E4V1"
      },
      "source": [
        "# **Your Solution**\n",
        "\n",
        "Kindly place your solution in the code block below. Also assume that the previous code block will be run and initialize the variables prior to your solution running.\n",
        "\n",
        "### **Yazan's Note:**\n",
        "\n",
        "After a few responses, you'll notice nothing is printed after you send in your message, if you click 'esc'. It will show, honestly, I do not understand what is the problem."
      ]
    },
    {
      "cell_type": "code",
      "execution_count": 3,
      "metadata": {
        "id": "gfXU5Xc4E_ud"
      },
      "outputs": [
        {
          "name": "stdout",
          "output_type": "stream",
          "text": [
            "Edward: Hello! I am Edward, your professor for NLP1000. How are you doing today?\n",
            "You: \n",
            "Edward: Uhh can you say something? They say silence is an answer, but we won't move forward if you won't say anything.\n",
            "You: stop\n",
            "Edward: I see, well let's stop here then. Thank you for your time, Don't hesitate to start our session again some other time if you'd like to talk some more.\n",
            "You: \n",
            "Edward: Uhh can you say something? They say silence is an answer, but we won't move forward if you won't say anything.\n",
            "You: \n",
            "Edward: Uhh can you say something? They say silence is an answer, but we won't move forward if you won't say anything.\n",
            "You: \n",
            "Edward: Uhh can you say something? They say silence is an answer, but we won't move forward if you won't say anything.\n",
            "You: \n",
            "Edward: Uhh can you say something? They say silence is an answer, but we won't move forward if you won't say anything.\n",
            "You: \n",
            "Edward: Uhh can you say something? They say silence is an answer, but we won't move forward if you won't say anything.\n",
            "You: \n",
            "Edward: Uhh can you say something? They say silence is an answer, but we won't move forward if you won't say anything.\n"
          ]
        }
      ],
      "source": [
        "responses = {\n",
        "    'being': [\n",
        "        \"How long have you been {}?\",\n",
        "        \"What does being {} mean to you?\",\n",
        "        \"What has made you feel {} recently?\",\n",
        "        \"Have you always felt {}?\",\n",
        "        \"{}.. What led to that?\"\n",
        "    ],\n",
        "    'being_negation': [\n",
        "        \"Oh. well why aren't you {}?\",\n",
        "        \"How does it feel to not be {}?\",\n",
        "        \"Tell me, do you know why you feel like you're not {}? Perhaps I can help.\",\n",
        "        \"Is there something that could change so that you feel more.. {}..?\"\n",
        "    ],\n",
        "    'family': [\n",
        "        \"Tell me more about your relationship with your {}.\",\n",
        "        \"Hmm, how do you think {} influence's your life?\",\n",
        "        \"I hope you don't mind answering but, are you close with your {}?\",\n",
        "        \"What role does your {} play in your life?\",\n",
        "        \"Do you love your {}?\"\n",
        "    ],\n",
        "    'general': [\n",
        "        \"Can you describe your {} in more detail?\",\n",
        "        \"What significance does your {} have for you?\",\n",
        "        \"What does your {} mean to you?\",\n",
        "        \"How long have you had your {}?\"\n",
        "    ],\n",
        "    'generic': [\n",
        "        \"Can you tell me more about that?\",\n",
        "        \"How does that make you feel?\",\n",
        "        \"What does that mean to you?\",\n",
        "        \"Very interesting, please elaborate further.\"\n",
        "    ],\n",
        "    'repeat': [\n",
        "        \"Repeating the same thing won't get us anywhere. Can you uhh, tell me about what you've said previously?\",\n",
        "        \"Seems like you're currently on your own planet huh, well when you get back to me- tell me something new, alright?\",\n",
        "        \"You're like a broken radio huh, can you say something else?\"\n",
        "    ]\n",
        "}\n",
        "\n",
        "last_input = \"\"\n",
        "\n",
        "\n",
        "def generate_response(user_input):\n",
        "    global last_input\n",
        "    \n",
        "    # Check for user's silent treatment ( Clicking 'Enter' without typing anything to the bot)\n",
        "    if not user_input.strip():\n",
        "        return \"Uhh can you say something? They say silence is an answer, but we won't move forward if you won't say anything.\"\n",
        "\n",
        "    # Check for session end\n",
        "    if re.match(pattern_stop_session, user_input.lower()):\n",
        "        return \"I see, well let's stop here then. Thank you for your time, Don't hesitate to start our session again some other time if you'd like to talk some more.\"\n",
        "\n",
        "    # Check for repetition\n",
        "    if user_input.lower() == last_input.lower():\n",
        "        last_input = user_input\n",
        "        return random.choice(responses['repeat'])\n",
        "\n",
        "    last_input = user_input\n",
        "\n",
        "    # Check for patterns and generate response\n",
        "    if match := re.search(pttrn_being_negation, user_input.lower()):\n",
        "        return random.choice(responses['being_negation']).format(match.group())\n",
        "    elif match := re.search(pttrn_being, user_input.lower()):\n",
        "        return random.choice(responses['being']).format(match.group())\n",
        "    elif match := re.search(pttrn_my_family, user_input.lower()):\n",
        "        return random.choice(responses['family']).format(match.group())\n",
        "    elif match := re.search(pttrn_my_general, user_input.lower()):\n",
        "        return random.choice(responses['general']).format(match.group())\n",
        "    else:\n",
        "        return random.choice(responses['generic'])\n",
        "\n",
        "# Main chat loop\n",
        "print(\"Edward: Hello! I am Edward, your professor for NLP1000. How are you doing today?\")\n",
        "while True:\n",
        "    user_input = input(\"You: \")\n",
        "    print(f\"You: {user_input}\")  # Print whatever we inputted so I can keep track of what I've previously said.. Since I am forgetful, wait- what are we talking about again?\n",
        "    response = generate_response(user_input)\n",
        "    print(\"Edward:\", response)\n",
        "    if response.startswith(\"stop\"):\n",
        "        break"
      ]
    }
  ],
  "metadata": {
    "colab": {
      "provenance": []
    },
    "kernelspec": {
      "display_name": "Python 3",
      "name": "python3"
    },
    "language_info": {
      "codemirror_mode": {
        "name": "ipython",
        "version": 3
      },
      "file_extension": ".py",
      "mimetype": "text/x-python",
      "name": "python",
      "nbconvert_exporter": "python",
      "pygments_lexer": "ipython3",
      "version": "3.12.2"
    }
  },
  "nbformat": 4,
  "nbformat_minor": 0
}
